{
 "cells": [
  {
   "cell_type": "markdown",
   "id": "b523d5e6",
   "metadata": {},
   "source": [
    "# K-Server Problem"
   ]
  },
  {
   "cell_type": "markdown",
   "id": "ce8d4e71",
   "metadata": {},
   "source": [
    "The K-Server problem consists of a set of servers with some initial position and a sequence of requests to which one of the servers need to be send to before seeing the next request. The total cost, which is to be minimized, is the cumulative distance travelled by the servers."
   ]
  },
  {
   "cell_type": "markdown",
   "id": "bc1ee4ef",
   "metadata": {},
   "source": [
    "## This implementation"
   ]
  },
  {
   "cell_type": "markdown",
   "id": "50201a3a",
   "metadata": {},
   "source": [
    "The following implementation provides several offline and online methods to solve K-Server problem instances. Amongst which are:"
   ]
  },
  {
   "cell_type": "markdown",
   "id": "852c292c",
   "metadata": {},
   "source": [
    "### Optimal offline Solvers\n",
    "- one which uses dynammic programming (rather slow for big instances)\n",
    "- one which transforms the problem into a max-flow-min-cost problem and solves it using the min-mean-cycle-reduction algorithm"
   ]
  },
  {
   "cell_type": "markdown",
   "id": "f96a92a9",
   "metadata": {},
   "source": [
    "### Online Solvers:\n",
    "- one which uses random assignment\n",
    "- one which uses a greedy strategy by always assigning the closest server to the request\n",
    "- one which uses the Work-Function-Algorithm; note that the problem to solve the cost function of the algorithm also gets solved by transforming it into a max-flow-min-cost problem (see [Rudec et al. 2011](https://link.springer.com/article/10.1007/s10100-011-0222-7))\n",
    "- one which uses the Follow-the-Prediction algorithm using predicted configurations (see [Polak et al. 2020](https://arxiv.org/abs/2003.02144))\n",
    "- one which deterministically combines multiple algorithms (Called Min_det in (see [Polak et al. 2020](https://arxiv.org/abs/2003.02144)))\n",
    "- one which in a randomized way combines two algorithms (Called Min_Rand in (see [Polak et al. 2020](https://arxiv.org/abs/2003.02144)))"
   ]
  },
  {
   "cell_type": "markdown",
   "id": "bf4fc3c7",
   "metadata": {},
   "source": [
    "### Additional methods\n",
    "It also provides a method for computing predictions for the Follow-the-Prediction algorithm using one of the other solvers with some error probability. They can however also be stated manually."
   ]
  },
  {
   "cell_type": "markdown",
   "id": "484ababa",
   "metadata": {},
   "source": [
    "There are of course also several other helper methods in addition to the implementation of networks, the Edward-Karps algorithm, Kosarajus algorithm and the min-mean-cycle-reduction algorithm itself. They are however only indirectly part of the K-Server problem and are thus not presented in detail. "
   ]
  },
  {
   "cell_type": "markdown",
   "id": "f9a08052",
   "metadata": {},
   "source": [
    "## Example 1"
   ]
  },
  {
   "cell_type": "markdown",
   "id": "3664eb5c",
   "metadata": {},
   "source": [
    "Lets first import the neccessary functions and classes:"
   ]
  },
  {
   "cell_type": "code",
   "execution_count": 14,
   "id": "1c6ac47a",
   "metadata": {},
   "outputs": [],
   "source": [
    "import K_Server as ks"
   ]
  },
  {
   "cell_type": "markdown",
   "id": "dd502f66",
   "metadata": {},
   "source": [
    "To instantiate a K-Server instance, we need some location object for the server and request positions, which implements a distance function. The following example uses points on the line.\\\n",
    "You can however choose arbitrary locations, as long as there is always a distance function implemented like this: 'def dist(self, other) -> float'. This also allows not just for arbitrary dimensions but of course also for any distance metric."
   ]
  },
  {
   "cell_type": "code",
   "execution_count": 15,
   "id": "99227bfb",
   "metadata": {},
   "outputs": [],
   "source": [
    "class Point_on_Line:\n",
    "    \"\"\"\n",
    "    A small class simulating a location of a server or request on the line\n",
    "\n",
    "    ...\n",
    "\n",
    "    Attributes\n",
    "    ----------\n",
    "    x : int\n",
    "        the position on the line\n",
    "\n",
    "    Methods\n",
    "    -------\n",
    "    dist(other)\n",
    "        computes the distance between this location and another one \n",
    "    \n",
    "    \"\"\"\n",
    "    \n",
    "    def __init__(self, x: float) -> None:\n",
    "        self.x = x\n",
    "        \n",
    "    def __str__(self) -> str:\n",
    "        return f'{self.x}'\n",
    "    \n",
    "    def __repr__(self) -> str:\n",
    "        return f'{self.x}'\n",
    "        \n",
    "    def dist(self, other) -> float:\n",
    "        return abs(self.x - other.x)"
   ]
  },
  {
   "cell_type": "markdown",
   "id": "4aab079a",
   "metadata": {},
   "source": [
    "An instance of the K-Server problem gets instantiated by providing a list of initial server positions, a list of request positions and, if desired, also a list with the predicted configurations. You can also state the metric space diameter, but if you should decide not to, it will get computed automatically.    "
   ]
  },
  {
   "cell_type": "code",
   "execution_count": 16,
   "id": "cbf23f73",
   "metadata": {},
   "outputs": [],
   "source": [
    "# four servers located at 0, -15, 0 & 7\n",
    "servers = [Point_on_Line(0), Point_on_Line(-15), Point_on_Line(0), Point_on_Line(7)]\n",
    "\n",
    "\n",
    "# eight requests at 11, 9, 18, 7, 25, -7, -8 & -3\n",
    "requests = [Point_on_Line(11), Point_on_Line(9), Point_on_Line(18), Point_on_Line(7), Point_on_Line(25), \n",
    "            Point_on_Line(-7), Point_on_Line(-8), Point_on_Line(-3)]"
   ]
  },
  {
   "cell_type": "markdown",
   "id": "ab47ba75",
   "metadata": {},
   "source": [
    "Lets have a look at configurations for the case that you decide to provide the list of predicted configurations manually:\\\n",
    "A configuration consists of a list which contains for each server an index of its position. Note that only initial server positions or request positions are possible locations for a server. Thus the index refers to a list of possible positions \\[$s_1, ..., s_n, r_1, ..., r_m$\\]  of the server positions followed by the request positions."
   ]
  },
  {
   "cell_type": "markdown",
   "id": "29b6b7b5",
   "metadata": {},
   "source": [
    "For example:"
   ]
  },
  {
   "cell_type": "code",
   "execution_count": 17,
   "id": "d7a3ce6b",
   "metadata": {},
   "outputs": [],
   "source": [
    "prediction_list = [[0, 1, 2, 4], [0, 5, 2, 4], [6, 5, 2, 4], [7, 5, 2, 4], [7, 5, 2, 8], [7, 9, 2, 8], \n",
    "                   [7, 10, 2, 8], [7, 10, 11, 8]]"
   ]
  },
  {
   "cell_type": "markdown",
   "id": "f70bb705",
   "metadata": {},
   "source": [
    "Now we can define our problem instance:"
   ]
  },
  {
   "cell_type": "code",
   "execution_count": 18,
   "id": "6bc9604a",
   "metadata": {},
   "outputs": [],
   "source": [
    "problem = ks.K_Server(servers, requests, prediction_list)"
   ]
  },
  {
   "cell_type": "markdown",
   "id": "bbb706b0",
   "metadata": {},
   "source": [
    "### Offline and online solutions"
   ]
  },
  {
   "cell_type": "markdown",
   "id": "c83554a4",
   "metadata": {},
   "source": [
    "As mentioned above there are several offline and online solvers implemented. A list of all of them can be found below. Apart from the two which combine multiple algorithms, they do not need any arguments."
   ]
  },
  {
   "cell_type": "markdown",
   "id": "bbcc2f12",
   "metadata": {},
   "source": [
    "- execute_opt_dp() : optimal offline solution of the problem instance via dynamic programming\n",
    "- execute_opt_network() : optimal offline solution of the problem instance by solving a max-flow-min-cost problem instance\n",
    "- execute_random() : online solution of the problem instance using random server assignment\n",
    "- execute_greedy() : online solution of the problem instance using a greedy heuristic\n",
    "- execute_ftp() : online solution of the problem instance via the FollowThePrediction-algorithm\n",
    "- execute_wfa() : online solution of the problem instance via work function algorithm\n",
    "- execute_combine_deterministic(solver) : online solution of the problem instance by deterministically combining different solvers\n",
    "- execute_combine_randomized(solver, eps) : online solution of the problem instance by combining two solvers in a randomized way"
   ]
  },
  {
   "cell_type": "markdown",
   "id": "60f42ba8",
   "metadata": {},
   "source": [
    "Lets try them out:"
   ]
  },
  {
   "cell_type": "code",
   "execution_count": 19,
   "id": "7ed70f84",
   "metadata": {},
   "outputs": [
    {
     "name": "stdout",
     "output_type": "stream",
     "text": [
      "opt_dp:  (41, [0, 0, 0, 3, 0, 1, 1, 2])\n",
      "opt_net:  (41, [3, 0, 3, 0, 3, 1, 1, 2])\n",
      "random:  (111, [1, 3, 0, 0, 3, 0, 1, 1])\n",
      "greedy:  (42, [3, 3, 3, 0, 3, 2, 2, 2])\n",
      "ftp:  (91, [3, 1, 0, 0, 3, 1, 1, 2])\n",
      "wfa:  (56, [3, 3, 3, 0, 3, 2, 0, 0])\n"
     ]
    }
   ],
   "source": [
    "print(\"opt_dp: \", problem.execute_opt_dp())\n",
    "print(\"opt_net: \", problem.execute_opt_network())\n",
    "print(\"random: \", problem.execute_random())\n",
    "print(\"greedy: \", problem.execute_greedy())\n",
    "print(\"ftp: \", problem.execute_ftp())\n",
    "print(\"wfa: \", problem.execute_wfa())"
   ]
  },
  {
   "cell_type": "markdown",
   "id": "6586b9c5",
   "metadata": {},
   "source": [
    "The resulting tuple first contains the total cost (you can see that the total cost of the offline algorithms is the same and also the lowest one), and second a server assignment list, which contains for each request the index of the respective server which serves it.\\\n",
    "This also allows to compare how the algorithms got to their result. For example the two offline algorithms choose for several requests different servers, but both of those solutions are still optimal."
   ]
  },
  {
   "cell_type": "markdown",
   "id": "e1d6340f",
   "metadata": {},
   "source": [
    "### Combining algorithms"
   ]
  },
  {
   "cell_type": "markdown",
   "id": "1f675565",
   "metadata": {},
   "source": [
    "There are two more online algorithms we haven't tried out yet. Both of them are able to either combine two or arbitrarily many other approaches.\\\n",
    "You can state which approaches to use by passing a list of the respesctive solvers as an argument. A list of all availlable solvers can be found below. Note that a solver (in this implementation) refers to the method, which assigns for a given current configuration and the current request a server to serve that request. The \"execute_\" methods use those solvers."
   ]
  },
  {
   "cell_type": "markdown",
   "id": "4c743d26",
   "metadata": {},
   "source": [
    "- opt_solver : optimal solver returning an index of the server to be moved to the current request \n",
    "- random_solver : solver for random assignment returning an index of the server to be moved to the current request\n",
    "- greedy_solver : solver for the greedy algorithm returning an index of the server to be moved to the current request\n",
    "- ftp_solver : solver for FollowThePrediction returning an index of the server to be moved to the current request\n",
    "- wfa_network_solver : solver for the work function algorithm returning an index of the server to be moved to the current request"
   ]
  },
  {
   "cell_type": "markdown",
   "id": "e1227ce6",
   "metadata": {},
   "source": [
    "The deterministic combination algorithm can combine arbitrarily many, while the randomized one can (in this implementation) only combine two.\\\n",
    "Also note that the randomized algorithm requires an $\\epsilon < 0.5$ as a parameter too (as stated in [Polak et al. 2020](https://arxiv.org/abs/2003.02144)))"
   ]
  },
  {
   "cell_type": "code",
   "execution_count": 20,
   "id": "64b54ef5",
   "metadata": {},
   "outputs": [
    {
     "name": "stdout",
     "output_type": "stream",
     "text": [
      "deterministic combination of ftp, wfa and the optimal solver:  56\n"
     ]
    }
   ],
   "source": [
    "# Example for the deterministic algorithm:\n",
    "\n",
    "# list of solvers to use for the deterministic algorithm\n",
    "solver_for_det = [problem.ftp_solver, problem.wfa_network_solver, problem.opt_solver]\n",
    "\n",
    "print(\"deterministic combination of ftp, wfa and the optimal solver: \", \n",
    "      problem.execute_combine_deterministic(solver_for_det))"
   ]
  },
  {
   "cell_type": "code",
   "execution_count": 21,
   "id": "19e222ce",
   "metadata": {},
   "outputs": [
    {
     "name": "stdout",
     "output_type": "stream",
     "text": [
      "randomized combination of ftp and the greedy solver:  91\n"
     ]
    }
   ],
   "source": [
    "# Example for the randomized algorithm:\n",
    "\n",
    "# list of solvers to use for the randomized algorithm\n",
    "solver_for_ran = [problem.ftp_solver, problem.greedy_solver]\n",
    "eps = 0.01\n",
    "\n",
    "print(\"randomized combination of ftp and the greedy solver: \", problem.execute_combine_randomized(solver_for_ran, eps))"
   ]
  },
  {
   "cell_type": "markdown",
   "id": "b2e814dc",
   "metadata": {},
   "source": [
    "Note that in those two cases only the output only consists of the total cost, since by switching between algorithms servers sometimes also might be moved when not directly serving a request.   "
   ]
  },
  {
   "cell_type": "markdown",
   "id": "badc2e97",
   "metadata": {},
   "source": [
    "If you do not want to state the predictions manually but instead use one of the solvers to generate them, you can use the following method:"
   ]
  },
  {
   "cell_type": "markdown",
   "id": "76ed3e57",
   "metadata": {},
   "source": [
    "generate_prediction_list(solver, error_prob)"
   ]
  },
  {
   "cell_type": "markdown",
   "id": "a09cbd04",
   "metadata": {},
   "source": [
    "Similar to when combining algorithms you pass a solver as an argument. The predictions will automatically be stored as an attribute of your problem instance.\\\n",
    "The 'error_prob' argument is the probability with which the predicted configuration will deviate from the one suggested by the solver. The default is 0."
   ]
  },
  {
   "cell_type": "code",
   "execution_count": 22,
   "id": "60a102f8",
   "metadata": {},
   "outputs": [
    {
     "name": "stdout",
     "output_type": "stream",
     "text": [
      "ftp:  (79, [0, 0, 3, 0, 0, 2, 1, 3])\n"
     ]
    }
   ],
   "source": [
    "# Example\n",
    "problem.generate_prediction_list(solver = problem.opt_solver, error_prob=0.3)\n",
    "\n",
    "print(\"ftp: \", problem.execute_ftp())"
   ]
  },
  {
   "cell_type": "markdown",
   "id": "45a1adef",
   "metadata": {},
   "source": [
    "## Example 2"
   ]
  },
  {
   "cell_type": "markdown",
   "id": "3039a8b9",
   "metadata": {},
   "source": [
    "A second example where I do not explain everything in detail:"
   ]
  },
  {
   "cell_type": "code",
   "execution_count": 23,
   "id": "1d0bb20d",
   "metadata": {},
   "outputs": [],
   "source": [
    "import math\n",
    "\n",
    "class Point_2D:\n",
    "    \"\"\"\n",
    "    A small class simulating a location of a server or request on the plane\n",
    "\n",
    "    ...\n",
    "\n",
    "    Attributes\n",
    "    ----------\n",
    "    x : int\n",
    "        x position\n",
    "    x : int\n",
    "        y position\n",
    "\n",
    "    Methods\n",
    "    -------\n",
    "    dist(other)\n",
    "        computes the distance between this location and another one \n",
    "    \n",
    "    \"\"\"\n",
    "    \n",
    "    def __init__(self, x: float, y: float) -> None:\n",
    "        self.x = x\n",
    "        self.y = y\n",
    "        \n",
    "    def __str__(self) -> str:\n",
    "        return f'{self.x}'\n",
    "    \n",
    "    def __repr__(self) -> str:\n",
    "        return f'{self.x}'\n",
    "        \n",
    "    def dist(self, other) -> float:\n",
    "        return abs(math.sqrt((self.x-other.x)**2 + (self.y-other.y)**2))"
   ]
  },
  {
   "cell_type": "code",
   "execution_count": 24,
   "id": "1f5b0f1f",
   "metadata": {},
   "outputs": [
    {
     "name": "stdout",
     "output_type": "stream",
     "text": [
      "opt_dp:  (42.17224167544759, [1, 1, 0, 1, 0, 1, 0, 1])\n",
      "opt_net:  (42.17224167544759, [1, 1, 0, 1, 0, 1, 0, 1])\n",
      "random:  (71.25466026528898, [0, 1, 1, 1, 0, 0, 0, 0])\n",
      "greedy:  (46.09415001090821, [0, 1, 0, 1, 0, 1, 0, 1])\n",
      "ftp:  (46.09415001090821, [0, 1, 0, 1, 0, 1, 0, 1])\n",
      "wfa:  (46.09415001090821, [0, 1, 0, 1, 0, 1, 0, 1])\n"
     ]
    }
   ],
   "source": [
    "servers = [Point_2D(0,0), Point_2D(10,1)]\n",
    "\n",
    "\n",
    "requests = [Point_2D(4,5), Point_2D(7,2), Point_2D(-2,0), Point_2D(5,7), Point_2D(1,2), Point_2D(10,9), \n",
    "            Point_2D(0,5), Point_2D(15,-1)]\n",
    "\n",
    "problem = ks.K_Server(servers, requests)\n",
    "\n",
    "problem.generate_prediction_list(solver = problem.greedy_solver)\n",
    "\n",
    "print(\"opt_dp: \", problem.execute_opt_dp())\n",
    "print(\"opt_net: \", problem.execute_opt_network())\n",
    "print(\"random: \", problem.execute_random())\n",
    "print(\"greedy: \", problem.execute_greedy())\n",
    "print(\"ftp: \", problem.execute_ftp())\n",
    "print(\"wfa: \", problem.execute_wfa())"
   ]
  },
  {
   "cell_type": "code",
   "execution_count": 25,
   "id": "17e1587f",
   "metadata": {},
   "outputs": [
    {
     "name": "stdout",
     "output_type": "stream",
     "text": [
      "deterministic combination of ftp, wfa and the optimal solver:  54.38561558878709\n",
      "randomized combination of ftp and the greedy solver:  46.09415001090821\n"
     ]
    }
   ],
   "source": [
    "solver_for_det = [problem.ftp_solver, problem.wfa_network_solver, problem.opt_solver]\n",
    "\n",
    "print(\"deterministic combination of ftp, wfa and the optimal solver: \", \n",
    "      problem.execute_combine_deterministic(solver_for_det))\n",
    "\n",
    "solver_for_ran = [problem.ftp_solver, problem.greedy_solver]\n",
    "eps = 0.01\n",
    "\n",
    "print(\"randomized combination of ftp and the greedy solver: \", problem.execute_combine_randomized(solver_for_ran, eps))"
   ]
  },
  {
   "cell_type": "markdown",
   "id": "98993c68",
   "metadata": {},
   "source": [
    "Just as a small remark: while testing the second example it at first did not work due to a floating point error. I changed one line in the code so it does work now, but theoretically something similar could happen again, as I did not directly watch out for something like that when writing the code."
   ]
  }
 ],
 "metadata": {
  "kernelspec": {
   "display_name": "Python 3 (ipykernel)",
   "language": "python",
   "name": "python3"
  },
  "language_info": {
   "codemirror_mode": {
    "name": "ipython",
    "version": 3
   },
   "file_extension": ".py",
   "mimetype": "text/x-python",
   "name": "python",
   "nbconvert_exporter": "python",
   "pygments_lexer": "ipython3",
   "version": "3.7.11"
  }
 },
 "nbformat": 4,
 "nbformat_minor": 5
}
